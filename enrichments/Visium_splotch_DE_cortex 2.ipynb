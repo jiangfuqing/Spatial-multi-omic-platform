{
 "cells": [
  {
   "cell_type": "markdown",
   "metadata": {},
   "source": [
    "# How to plot spatial gene expression estimates created with the splotch DE workflow?"
   ]
  },
  {
   "cell_type": "markdown",
   "metadata": {},
   "source": [
    "This script recreates figure S7D (DAPI) in SM-Omics: An automated platform for high-throughput spatial multi-omics; doi: https://doi.org/10.1101/2020.10.14.338418"
   ]
  },
  {
   "cell_type": "markdown",
   "metadata": {},
   "source": [
    "Load libraries"
   ]
  },
  {
   "cell_type": "code",
   "execution_count": 1,
   "metadata": {},
   "outputs": [],
   "source": [
    "%matplotlib inline\n",
    "import os\n",
    "import pandas as pd\n",
    "import numpy as np\n",
    "import matplotlib.pyplot as plt\n",
    "import seaborn as sns\n",
    "import glob\n",
    "import pickle\n",
    "import operator\n",
    "import matplotlib\n",
    "import scipy.stats as stats\n",
    "import statsmodels.stats.multitest as multi\n",
    "from itertools import chain\n",
    "plt.rcParams['figure.figsize'] = [15, 10]\n",
    "import warnings; warnings.simplefilter('ignore')\n",
    "matplotlib.rcParams['pdf.fonttype'] = 42\n",
    "matplotlib.rcParams['ps.fonttype'] = 42"
   ]
  },
  {
   "cell_type": "code",
   "execution_count": 2,
   "metadata": {},
   "outputs": [],
   "source": [
    "# raw data files needed to run are available at SCP: https://singlecell.broadinstitute.org/single_cell/study/SCP979/\n",
    "# please download: BF-beta_visium.tsv, aba_he.zip"
   ]
  },
  {
   "cell_type": "markdown",
   "metadata": {},
   "source": [
    "Load definitions"
   ]
  },
  {
   "cell_type": "code",
   "execution_count": 3,
   "metadata": {},
   "outputs": [],
   "source": [
    "def Extract(lst): \n",
    "    return list(next(zip(*lst))) \n",
    "\n",
    "def ftest(st_spec_cutoff,aba_spec_cutoff):\n",
    "    bb_count = 0\n",
    "    fisher_dict = {}\n",
    "    pval_list = []\n",
    "\n",
    "    for condition, df in st_spec_cutoff.groupby('condition_1'):\n",
    "\n",
    "            regions_tmp = list(set(st_spec_cutoff['AAR1'].tolist()))\n",
    "            regions = [x for x in regions_tmp if str(x) != 'nan']\n",
    "\n",
    "            for i in regions:     \n",
    "                for j in regions:\n",
    "\n",
    "                    #SM-Omics genes\n",
    "                    st_genes = df[df['AAR1'] == i]['gene_new'].tolist()\n",
    "\n",
    "                    # ABA-genes\n",
    "                    aba_genes = aba_spec_cutoff[aba_spec_cutoff['ABA_region'] == j]['gene-symbol'].tolist()\n",
    "\n",
    "                    # SM-Omics genes in all other regions\n",
    "                    st_rest = df[df['AAR1'] != i]['gene_new'].tolist()\n",
    "\n",
    "                    # ABA genes in all other regions\n",
    "                    aba_rest = aba_spec_cutoff[aba_spec_cutoff['ABA_region'] != j]['gene-symbol'].tolist()\n",
    "\n",
    "                    # g1 = genes in both ST and ABA\n",
    "                    # g2 = genes unique to ST\n",
    "                    # g3 = genes unique to ABA\n",
    "                    # g4 = genes neither in st or aba region but in the other regions\n",
    "\n",
    "                    g1 = len(list(set(st_genes).intersection(aba_genes)))\n",
    "                    g2 = len(list(set(aba_genes).difference(set(st_genes)))) \n",
    "                    g3 = len(list(set(st_genes).difference(set(aba_genes))))\n",
    "                    g4 = len(list(set(st_rest).intersection(aba_rest)))\n",
    "\n",
    "                    # Fisher's test\n",
    "                    oddsratio, pvalue = stats.fisher_exact([[g4, g2], [g3, g1]], alternative='greater')\n",
    "\n",
    "                    # Store pvalues in list to use for multiple corrections testing\n",
    "                    pval_list.append(pvalue)\n",
    "\n",
    "                    # Store fisher's test results in DF\n",
    "                    ff = [condition, i, j, oddsratio, pvalue, g1]\n",
    "                    # print(i, j, g1, g2, g3, g4, pvalue)\n",
    "\n",
    "                    if bb_count == 0:\n",
    "                        fisher_dict[bb_count] = ff\n",
    "\n",
    "                        df_ff = pd.DataFrame.from_dict(fisher_dict)\n",
    "\n",
    "                        df_ff['idx'] = ['condition', 'AAR_ST', 'AAR_ABA','Odds ratio', 'p value', 'Num shared genes']\n",
    "\n",
    "                        df_ff.set_index('idx', inplace = True)\n",
    "\n",
    "                        bb_count += 1\n",
    "                    else:\n",
    "                        df_ff[bb_count] = ff\n",
    "\n",
    "                        bb_count += 1\n",
    "    return pval_list, df_ff\n"
   ]
  },
  {
   "cell_type": "code",
   "execution_count": 5,
   "metadata": {
    "scrolled": true
   },
   "outputs": [],
   "source": [
    "# Load ABA ref files\n",
    "path = '../../smomics_data/'\n",
    "\n",
    "aba_dict = []\n",
    "# Read files\n",
    "for filename in glob.glob(os.path.join(path, 'aba*.csv')):\n",
    "    \n",
    "    # Get name of ABA region\n",
    "    name = filename.split('/')[-1].split('.')[0][3:].upper()\n",
    "    file = pd.read_csv(filename, index_col=0)\n",
    "    file['ABA_region'] = name\n",
    "    \n",
    "    # Only keep certain columns\n",
    "    aba = file[['gene-symbol', 'fold-change', 'ABA_region', 'target-sum', 'contrast-sum', 'num-target-samples']]\n",
    "        \n",
    "    # Calculate expression threshold\n",
    "    aba['Expression threshold'] = aba['target-sum'] / aba['num-target-samples']\n",
    "    \n",
    "    # Only save genes which have fold-change > xx\n",
    "    aba = aba[aba['fold-change'] > 2.5] \n",
    "    aba_dict.append(aba)\n",
    "    \n",
    "aba_spec = pd.concat(aba_dict)\n",
    "\n",
    "# merge region names\n",
    "aba_spec['ABA_region'] = aba_spec['ABA_region'].replace({'PAA' : 'PIR',\n",
    "                                                         'TR' : 'PIR',\n",
    "                                                        'PRT' : 'MB',\n",
    "                                                        'PAG' : 'MB'})"
   ]
  },
  {
   "cell_type": "code",
   "execution_count": 6,
   "metadata": {},
   "outputs": [
    {
     "name": "stdout",
     "output_type": "stream",
     "text": [
      "CNU\n",
      "['Gpr6', 'Serpina9', 'Adora2a', 'Rarb', 'Rgs9']\n",
      "CNU 2\n",
      "['Gpr6', 'Serpina9', 'Adora2a', 'Rarb', 'Rgs9']\n",
      "CTXSP\n",
      "['Cyp26b1', 'F5', 'Hpcal1', 'Col23a1', 'Cyp26b1']\n",
      "CTXSP 2\n",
      "['Cyp26b1', 'F5', 'Hpcal1', 'Col23a1', 'Cyp26b1']\n",
      "HIP\n",
      "['Prox1', 'Crlf1', 'Pkp2', 'Clvs2', 'Cabp7']\n",
      "HIP 2\n",
      "['Prox1', 'Crlf1', 'Pkp2', 'Clvs2', 'Cabp7']\n",
      "HY\n",
      "['Slc6a3', 'Slc18a2', 'LOC381076', 'Gal', 'Itih3']\n",
      "HY 2\n",
      "['Slc6a3', 'Slc18a2', 'LOC381076', 'Gal', 'Itih3']\n",
      "ISOCORTEX\n",
      "['Sytl2', 'Myl4', 'Tnnc1', 'Igfbp6', 'Baalc']\n",
      "ISOCORTEX 2\n",
      "['Sytl2', 'Myl4', 'Tnnc1', 'Igfbp6', 'Baalc']\n",
      "PAA 2\n",
      "['Smoc1', 'Lsamp', 'Itgb8', 'Shh', 'Nos1']\n",
      "PIR\n",
      "['Smoc1', 'Trhr', 'Smoc1', 'Ndst4', 'Trh']\n",
      "PIR 2\n",
      "['Ndst4', 'Phactr2', 'Ppfibp1', 'Grem2', 'Fam19a2']\n",
      "TH\n",
      "['Plekhg1', 'Rab37', 'Grid2ip', 'Tcf7l2', 'Slitrk6']\n",
      "TH 2\n",
      "['Plekhg1', 'Rab37', 'Grid2ip', 'Tcf7l2', 'Slitrk6']\n",
      "TR 2\n",
      "['Smoc1', 'Trhr', 'Trh', 'Trhr', 'Frat2']\n"
     ]
    }
   ],
   "source": [
    "## Top ABA genes per region\n",
    "ABA_top_gene_dict = {}\n",
    "for label, df in aba_spec.groupby('ABA_region'):\n",
    "    \n",
    "    print(label)\n",
    "    print(df.sort_values(by=['fold-change'], ascending=False)['gene-symbol'].head(5).tolist())\n",
    "    \n",
    "    ABA_top_gene_dict[label] = df.sort_values(by='fold-change', ascending=False)['gene-symbol'].tolist()\n"
   ]
  },
  {
   "cell_type": "code",
   "execution_count": 7,
   "metadata": {
    "scrolled": false
   },
   "outputs": [],
   "source": [
    "# Load SM-Omics files\n",
    "path = '../../smomics_data/'\n",
    "\n",
    "# Read file\n",
    "filename = os.path.join(path, 'BF-beta_visium.tsv')\n",
    "st_file = pd.read_csv(filename, index_col=0, sep='\\t')\n",
    "\n",
    "# Only compare one region to all the rest and positively expressed genes\n",
    "st_spec = st_file[(st_file['AAR2'] == 'Rest') & (st_file['Delta'] > 0)] \n",
    "\n",
    "# Log10 BF\n",
    "st_spec['logBF'] = np.log(st_spec['BF'])\n",
    "\n",
    "# merge region names\n",
    "st_spec['AAR1'] = st_spec['AAR1'].replace({'Cerebral nuclei':'CNU',\n",
    "                    'Cortical subplate':'CTXSP',\n",
    "                    'Fiber tracts': 'nan',\n",
    "                    'Hippocampal formation': 'HIP',\n",
    "                    'Hypothalamus':'HY',\n",
    "                    'Isocortex':'ISOCORTEX',\n",
    "                    'Midbrain':'TH',\n",
    "                    'Olfactory areas':'PIR',\n",
    "                    'Thalamus':'TH',\n",
    "                    'Rest':'Rest'})\n",
    "\n",
    "# rename gene names\n",
    "st_spec['gene_new'] = Extract(st_spec['gene'].str.split(\"_\",0))\n"
   ]
  },
  {
   "cell_type": "code",
   "execution_count": 8,
   "metadata": {},
   "outputs": [
    {
     "name": "stdout",
     "output_type": "stream",
     "text": [
      "CNU\n",
      "['1700022N22Rik', 'Gen1', 'Dnajc22', 'Arap1', 'Sall4']\n",
      "CTXSP\n",
      "['Zfp607a', 'Gm12318', 'Gm14046', 'Mybl2', 'Gm44957']\n",
      "HIP\n",
      "['Sipa1l3', 'Nr3c2', 'Arhgap39', 'Dock9', 'Mt3']\n",
      "HY\n",
      "['Hyi', 'Spcs1', 'Fuca2', 'Rps24', 'Cdk18']\n",
      "ISOCORTEX\n",
      "['Trib1', 'R3hdm2', 'Cd34', 'Ciart', 'Plekho1']\n",
      "PIR\n",
      "['Ap3m1-ps', 'Zfp773', 'Igfn1', 'Nlrp9b', 'Itgav']\n",
      "TH\n",
      "['Rsrc1', 'Zfp385a', '2310009B15Rik', 'Nacc2', 'Hspa4l']\n",
      "nan\n",
      "['Id3', 'S100a6', 'Id1', 'Prdx6', 'Hspb8']\n"
     ]
    }
   ],
   "source": [
    "## Top ST genes per condition and per region\n",
    "ST_top_gene_dict = {}\n",
    "\n",
    "for label, df in st_spec.groupby(['condition_1', 'AAR1']):    \n",
    "    print(label[1])\n",
    "    print(df.sort_values(by='logBF', ascending=False)['gene_new'].head(5).tolist())\n",
    "    ST_top_gene_dict[label[1]] = df.sort_values(by='logBF', ascending=False)['gene'].tolist()\n",
    "    \n",
    "# nan region denotes fiber trackts without ABA DE API enabled  "
   ]
  },
  {
   "cell_type": "markdown",
   "metadata": {},
   "source": [
    "### Merge aba and sm-omics by gene names"
   ]
  },
  {
   "cell_type": "code",
   "execution_count": 9,
   "metadata": {
    "scrolled": true
   },
   "outputs": [
    {
     "name": "stdout",
     "output_type": "stream",
     "text": [
      "Common genes:  250\n"
     ]
    }
   ],
   "source": [
    "st_cutoff = 0.2\n",
    "aba_cutoff = 1\n",
    "\n",
    "merge_dict = {}\n",
    "\n",
    "# Keep ABA-genes above cutoff\n",
    "aba_spec_cutoff_tmp = aba_spec[aba_spec['Expression threshold'] > aba_cutoff]\n",
    "\n",
    "# Get aba genes in all regions\n",
    "aba_spec_cutoff_genes = aba_spec_cutoff_tmp['gene-symbol'].tolist()\n",
    "\n",
    "# Keep ST-genes above cutoff\n",
    "st_spec_cutoff_tmp = st_spec[st_spec['logBF'] > st_cutoff]\n",
    "\n",
    "# Get st genes in all regions\n",
    "st_spec_cutoff_genes = st_spec_cutoff_tmp['gene_new'].tolist()\n",
    "\n",
    "# Common genes\n",
    "common_genes = set(aba_spec_cutoff_genes).intersection(st_spec_cutoff_genes)\n",
    "print(\"Common genes: \", len(common_genes))\n",
    "\n",
    "# Keep those genes in both aba and st\n",
    "aba_spec_cutoff = aba_spec_cutoff_tmp[aba_spec_cutoff_tmp['gene-symbol'].isin(common_genes)]\n",
    "st_spec_cutoff = st_spec_cutoff_tmp[st_spec_cutoff_tmp['gene_new'].isin(common_genes)]\n"
   ]
  },
  {
   "cell_type": "code",
   "execution_count": 10,
   "metadata": {
    "scrolled": false
   },
   "outputs": [],
   "source": [
    "# DIFFERENTIAL GENES PER REGION - Fisher's exact test       \n",
    "pval_list, df_ff = ftest(st_spec_cutoff,aba_spec_cutoff)\n",
    "\n",
    "# Do multiple testing correction on the pvalues\n",
    "pp = multi.multipletests(pval_list, alpha=0.05, method='fdr_bh', is_sorted=False, returnsorted=False)\n",
    "\n",
    "# Add corrected p-values\n",
    "df_ff_t = df_ff.T\n",
    "df_ff_t['p-value, corrected'] = list(pp[1])\n"
   ]
  },
  {
   "cell_type": "code",
   "execution_count": 13,
   "metadata": {},
   "outputs": [
    {
     "ename": "KeyError",
     "evalue": "'AAR_ST'",
     "output_type": "error",
     "traceback": [
      "\u001b[0;31m---------------------------------------------------------------------------\u001b[0m",
      "\u001b[0;31mKeyError\u001b[0m                                  Traceback (most recent call last)",
      "\u001b[0;32m~/miniconda2/envs/smomics/lib/python3.9/site-packages/pandas/core/indexes/base.py\u001b[0m in \u001b[0;36mget_loc\u001b[0;34m(self, key, method, tolerance)\u001b[0m\n\u001b[1;32m   3079\u001b[0m             \u001b[0;32mtry\u001b[0m\u001b[0;34m:\u001b[0m\u001b[0;34m\u001b[0m\u001b[0;34m\u001b[0m\u001b[0m\n\u001b[0;32m-> 3080\u001b[0;31m                 \u001b[0;32mreturn\u001b[0m \u001b[0mself\u001b[0m\u001b[0;34m.\u001b[0m\u001b[0m_engine\u001b[0m\u001b[0;34m.\u001b[0m\u001b[0mget_loc\u001b[0m\u001b[0;34m(\u001b[0m\u001b[0mcasted_key\u001b[0m\u001b[0;34m)\u001b[0m\u001b[0;34m\u001b[0m\u001b[0;34m\u001b[0m\u001b[0m\n\u001b[0m\u001b[1;32m   3081\u001b[0m             \u001b[0;32mexcept\u001b[0m \u001b[0mKeyError\u001b[0m \u001b[0;32mas\u001b[0m \u001b[0merr\u001b[0m\u001b[0;34m:\u001b[0m\u001b[0;34m\u001b[0m\u001b[0;34m\u001b[0m\u001b[0m\n",
      "\u001b[0;32mpandas/_libs/index.pyx\u001b[0m in \u001b[0;36mpandas._libs.index.IndexEngine.get_loc\u001b[0;34m()\u001b[0m\n",
      "\u001b[0;32mpandas/_libs/index.pyx\u001b[0m in \u001b[0;36mpandas._libs.index.IndexEngine.get_loc\u001b[0;34m()\u001b[0m\n",
      "\u001b[0;32mpandas/_libs/hashtable_class_helper.pxi\u001b[0m in \u001b[0;36mpandas._libs.hashtable.PyObjectHashTable.get_item\u001b[0;34m()\u001b[0m\n",
      "\u001b[0;32mpandas/_libs/hashtable_class_helper.pxi\u001b[0m in \u001b[0;36mpandas._libs.hashtable.PyObjectHashTable.get_item\u001b[0;34m()\u001b[0m\n",
      "\u001b[0;31mKeyError\u001b[0m: 'AAR_ST'",
      "\nThe above exception was the direct cause of the following exception:\n",
      "\u001b[0;31mKeyError\u001b[0m                                  Traceback (most recent call last)",
      "\u001b[0;32m<ipython-input-13-3dab7ddc2bae>\u001b[0m in \u001b[0;36m<module>\u001b[0;34m\u001b[0m\n\u001b[0;32m----> 1\u001b[0;31m \u001b[0mdf\u001b[0m\u001b[0;34m.\u001b[0m\u001b[0mpivot\u001b[0m\u001b[0;34m(\u001b[0m\u001b[0mindex\u001b[0m\u001b[0;34m=\u001b[0m\u001b[0;34m'AAR_ST'\u001b[0m\u001b[0;34m,\u001b[0m \u001b[0mcolumns\u001b[0m\u001b[0;34m=\u001b[0m\u001b[0;34m'AAR_ABA'\u001b[0m\u001b[0;34m,\u001b[0m \u001b[0mvalues\u001b[0m\u001b[0;34m=\u001b[0m\u001b[0;34m'p-value, corrected'\u001b[0m\u001b[0;34m)\u001b[0m\u001b[0;34m\u001b[0m\u001b[0;34m\u001b[0m\u001b[0m\n\u001b[0m",
      "\u001b[0;32m~/miniconda2/envs/smomics/lib/python3.9/site-packages/pandas/core/frame.py\u001b[0m in \u001b[0;36mpivot\u001b[0;34m(self, index, columns, values)\u001b[0m\n\u001b[1;32m   6877\u001b[0m         \u001b[0;32mfrom\u001b[0m \u001b[0mpandas\u001b[0m\u001b[0;34m.\u001b[0m\u001b[0mcore\u001b[0m\u001b[0;34m.\u001b[0m\u001b[0mreshape\u001b[0m\u001b[0;34m.\u001b[0m\u001b[0mpivot\u001b[0m \u001b[0;32mimport\u001b[0m \u001b[0mpivot\u001b[0m\u001b[0;34m\u001b[0m\u001b[0;34m\u001b[0m\u001b[0m\n\u001b[1;32m   6878\u001b[0m \u001b[0;34m\u001b[0m\u001b[0m\n\u001b[0;32m-> 6879\u001b[0;31m         \u001b[0;32mreturn\u001b[0m \u001b[0mpivot\u001b[0m\u001b[0;34m(\u001b[0m\u001b[0mself\u001b[0m\u001b[0;34m,\u001b[0m \u001b[0mindex\u001b[0m\u001b[0;34m=\u001b[0m\u001b[0mindex\u001b[0m\u001b[0;34m,\u001b[0m \u001b[0mcolumns\u001b[0m\u001b[0;34m=\u001b[0m\u001b[0mcolumns\u001b[0m\u001b[0;34m,\u001b[0m \u001b[0mvalues\u001b[0m\u001b[0;34m=\u001b[0m\u001b[0mvalues\u001b[0m\u001b[0;34m)\u001b[0m\u001b[0;34m\u001b[0m\u001b[0;34m\u001b[0m\u001b[0m\n\u001b[0m\u001b[1;32m   6880\u001b[0m \u001b[0;34m\u001b[0m\u001b[0m\n\u001b[1;32m   6881\u001b[0m     _shared_docs[\n",
      "\u001b[0;32m~/miniconda2/envs/smomics/lib/python3.9/site-packages/pandas/core/reshape/pivot.py\u001b[0m in \u001b[0;36mpivot\u001b[0;34m(data, index, columns, values)\u001b[0m\n\u001b[1;32m    445\u001b[0m         \u001b[0;32melse\u001b[0m\u001b[0;34m:\u001b[0m\u001b[0;34m\u001b[0m\u001b[0;34m\u001b[0m\u001b[0m\n\u001b[1;32m    446\u001b[0m             \u001b[0mindex\u001b[0m \u001b[0;34m=\u001b[0m \u001b[0mcom\u001b[0m\u001b[0;34m.\u001b[0m\u001b[0mconvert_to_list_like\u001b[0m\u001b[0;34m(\u001b[0m\u001b[0mindex\u001b[0m\u001b[0;34m)\u001b[0m\u001b[0;34m\u001b[0m\u001b[0;34m\u001b[0m\u001b[0m\n\u001b[0;32m--> 447\u001b[0;31m             \u001b[0mindex\u001b[0m \u001b[0;34m=\u001b[0m \u001b[0;34m[\u001b[0m\u001b[0mdata\u001b[0m\u001b[0;34m[\u001b[0m\u001b[0midx\u001b[0m\u001b[0;34m]\u001b[0m \u001b[0;32mfor\u001b[0m \u001b[0midx\u001b[0m \u001b[0;32min\u001b[0m \u001b[0mindex\u001b[0m\u001b[0;34m]\u001b[0m\u001b[0;34m\u001b[0m\u001b[0;34m\u001b[0m\u001b[0m\n\u001b[0m\u001b[1;32m    448\u001b[0m \u001b[0;34m\u001b[0m\u001b[0m\n\u001b[1;32m    449\u001b[0m         \u001b[0mdata_columns\u001b[0m \u001b[0;34m=\u001b[0m \u001b[0;34m[\u001b[0m\u001b[0mdata\u001b[0m\u001b[0;34m[\u001b[0m\u001b[0mcol\u001b[0m\u001b[0;34m]\u001b[0m \u001b[0;32mfor\u001b[0m \u001b[0mcol\u001b[0m \u001b[0;32min\u001b[0m \u001b[0mcolumns\u001b[0m\u001b[0;34m]\u001b[0m\u001b[0;34m\u001b[0m\u001b[0;34m\u001b[0m\u001b[0m\n",
      "\u001b[0;32m~/miniconda2/envs/smomics/lib/python3.9/site-packages/pandas/core/reshape/pivot.py\u001b[0m in \u001b[0;36m<listcomp>\u001b[0;34m(.0)\u001b[0m\n\u001b[1;32m    445\u001b[0m         \u001b[0;32melse\u001b[0m\u001b[0;34m:\u001b[0m\u001b[0;34m\u001b[0m\u001b[0;34m\u001b[0m\u001b[0m\n\u001b[1;32m    446\u001b[0m             \u001b[0mindex\u001b[0m \u001b[0;34m=\u001b[0m \u001b[0mcom\u001b[0m\u001b[0;34m.\u001b[0m\u001b[0mconvert_to_list_like\u001b[0m\u001b[0;34m(\u001b[0m\u001b[0mindex\u001b[0m\u001b[0;34m)\u001b[0m\u001b[0;34m\u001b[0m\u001b[0;34m\u001b[0m\u001b[0m\n\u001b[0;32m--> 447\u001b[0;31m             \u001b[0mindex\u001b[0m \u001b[0;34m=\u001b[0m \u001b[0;34m[\u001b[0m\u001b[0mdata\u001b[0m\u001b[0;34m[\u001b[0m\u001b[0midx\u001b[0m\u001b[0;34m]\u001b[0m \u001b[0;32mfor\u001b[0m \u001b[0midx\u001b[0m \u001b[0;32min\u001b[0m \u001b[0mindex\u001b[0m\u001b[0;34m]\u001b[0m\u001b[0;34m\u001b[0m\u001b[0;34m\u001b[0m\u001b[0m\n\u001b[0m\u001b[1;32m    448\u001b[0m \u001b[0;34m\u001b[0m\u001b[0m\n\u001b[1;32m    449\u001b[0m         \u001b[0mdata_columns\u001b[0m \u001b[0;34m=\u001b[0m \u001b[0;34m[\u001b[0m\u001b[0mdata\u001b[0m\u001b[0;34m[\u001b[0m\u001b[0mcol\u001b[0m\u001b[0;34m]\u001b[0m \u001b[0;32mfor\u001b[0m \u001b[0mcol\u001b[0m \u001b[0;32min\u001b[0m \u001b[0mcolumns\u001b[0m\u001b[0;34m]\u001b[0m\u001b[0;34m\u001b[0m\u001b[0;34m\u001b[0m\u001b[0m\n",
      "\u001b[0;32m~/miniconda2/envs/smomics/lib/python3.9/site-packages/pandas/core/frame.py\u001b[0m in \u001b[0;36m__getitem__\u001b[0;34m(self, key)\u001b[0m\n\u001b[1;32m   3022\u001b[0m             \u001b[0;32mif\u001b[0m \u001b[0mself\u001b[0m\u001b[0;34m.\u001b[0m\u001b[0mcolumns\u001b[0m\u001b[0;34m.\u001b[0m\u001b[0mnlevels\u001b[0m \u001b[0;34m>\u001b[0m \u001b[0;36m1\u001b[0m\u001b[0;34m:\u001b[0m\u001b[0;34m\u001b[0m\u001b[0;34m\u001b[0m\u001b[0m\n\u001b[1;32m   3023\u001b[0m                 \u001b[0;32mreturn\u001b[0m \u001b[0mself\u001b[0m\u001b[0;34m.\u001b[0m\u001b[0m_getitem_multilevel\u001b[0m\u001b[0;34m(\u001b[0m\u001b[0mkey\u001b[0m\u001b[0;34m)\u001b[0m\u001b[0;34m\u001b[0m\u001b[0;34m\u001b[0m\u001b[0m\n\u001b[0;32m-> 3024\u001b[0;31m             \u001b[0mindexer\u001b[0m \u001b[0;34m=\u001b[0m \u001b[0mself\u001b[0m\u001b[0;34m.\u001b[0m\u001b[0mcolumns\u001b[0m\u001b[0;34m.\u001b[0m\u001b[0mget_loc\u001b[0m\u001b[0;34m(\u001b[0m\u001b[0mkey\u001b[0m\u001b[0;34m)\u001b[0m\u001b[0;34m\u001b[0m\u001b[0;34m\u001b[0m\u001b[0m\n\u001b[0m\u001b[1;32m   3025\u001b[0m             \u001b[0;32mif\u001b[0m \u001b[0mis_integer\u001b[0m\u001b[0;34m(\u001b[0m\u001b[0mindexer\u001b[0m\u001b[0;34m)\u001b[0m\u001b[0;34m:\u001b[0m\u001b[0;34m\u001b[0m\u001b[0;34m\u001b[0m\u001b[0m\n\u001b[1;32m   3026\u001b[0m                 \u001b[0mindexer\u001b[0m \u001b[0;34m=\u001b[0m \u001b[0;34m[\u001b[0m\u001b[0mindexer\u001b[0m\u001b[0;34m]\u001b[0m\u001b[0;34m\u001b[0m\u001b[0;34m\u001b[0m\u001b[0m\n",
      "\u001b[0;32m~/miniconda2/envs/smomics/lib/python3.9/site-packages/pandas/core/indexes/base.py\u001b[0m in \u001b[0;36mget_loc\u001b[0;34m(self, key, method, tolerance)\u001b[0m\n\u001b[1;32m   3080\u001b[0m                 \u001b[0;32mreturn\u001b[0m \u001b[0mself\u001b[0m\u001b[0;34m.\u001b[0m\u001b[0m_engine\u001b[0m\u001b[0;34m.\u001b[0m\u001b[0mget_loc\u001b[0m\u001b[0;34m(\u001b[0m\u001b[0mcasted_key\u001b[0m\u001b[0;34m)\u001b[0m\u001b[0;34m\u001b[0m\u001b[0;34m\u001b[0m\u001b[0m\n\u001b[1;32m   3081\u001b[0m             \u001b[0;32mexcept\u001b[0m \u001b[0mKeyError\u001b[0m \u001b[0;32mas\u001b[0m \u001b[0merr\u001b[0m\u001b[0;34m:\u001b[0m\u001b[0;34m\u001b[0m\u001b[0;34m\u001b[0m\u001b[0m\n\u001b[0;32m-> 3082\u001b[0;31m                 \u001b[0;32mraise\u001b[0m \u001b[0mKeyError\u001b[0m\u001b[0;34m(\u001b[0m\u001b[0mkey\u001b[0m\u001b[0;34m)\u001b[0m \u001b[0;32mfrom\u001b[0m \u001b[0merr\u001b[0m\u001b[0;34m\u001b[0m\u001b[0;34m\u001b[0m\u001b[0m\n\u001b[0m\u001b[1;32m   3083\u001b[0m \u001b[0;34m\u001b[0m\u001b[0m\n\u001b[1;32m   3084\u001b[0m         \u001b[0;32mif\u001b[0m \u001b[0mtolerance\u001b[0m \u001b[0;32mis\u001b[0m \u001b[0;32mnot\u001b[0m \u001b[0;32mNone\u001b[0m\u001b[0;34m:\u001b[0m\u001b[0;34m\u001b[0m\u001b[0;34m\u001b[0m\u001b[0m\n",
      "\u001b[0;31mKeyError\u001b[0m: 'AAR_ST'"
     ]
    }
   ],
   "source": [
    "df.pivot(index='AAR_ST', columns='AAR_ABA', values='p-value, corrected').sort_index(axis = 0, ascending= True)\n"
   ]
  },
  {
   "cell_type": "code",
   "execution_count": null,
   "metadata": {},
   "outputs": [],
   "source": [
    "# Plot enrichement heatmap\n",
    "fig = plt.figure(figsize=(20, 10)) \n",
    "ax1 = plt.subplot2grid((2, 2), (0, 0))\n",
    "axes = [ax1]\n",
    "num_cond = list(range(0, len(list(set(df_ff_t['condition'])))))\n",
    "i=0\n",
    "\n",
    "for condition, df in df_ff_t.groupby('condition'):\n",
    "    # First make df into pivot table\n",
    "    pivot_df = df.pivot(index='AAR_ST', columns='AAR_ABA', values='p-value, corrected').sort_index(axis = 0, ascending= False)\n",
    "    \n",
    "    # Might not be necessary for real values\n",
    "    pivot_df = pivot_df.astype(str).astype(float) # For some unexpected reason, i get objects as dtype instead of integers, this is changed here. \n",
    "    \n",
    "    # Plot\n",
    "    ax=axes[num_cond[i]]\n",
    "    vmin = 0\n",
    "    vmax = 0.05\n",
    "    sns.heatmap(pivot_df,annot=True, cmap=\"YlGnBu\", ax=ax, vmin=vmin, vmax=vmax, linewidth = 0.5,cbar_kws={'label': 'p-value, corrected'})\n",
    "    \n",
    "    # Set axis labels\n",
    "    ax.set_xlabel('SM-Omics region', fontsize=12)\n",
    "    ax.set_ylabel('ABA region', fontsize=12)\n",
    "\n",
    "    ax.axhline(y=0, color='k',linewidth=5)\n",
    "    ax.axhline(y=pivot_df.shape[1], color='k',linewidth=5)\n",
    "    ax.axvline(x=0, color='k',linewidth=5)\n",
    "    ax.axvline(x=pivot_df.shape[0], color='k',linewidth=5)\n",
    "\n",
    "    i+=1\n",
    "    \n",
    "plt.show()\n",
    "fig.set_size_inches(12, 10)\n",
    "plt.savefig(\"../../figures/Visium_splotch_Heatmap.pdf\")\n"
   ]
  },
  {
   "cell_type": "markdown",
   "metadata": {},
   "source": [
    "# Print genes that are top most expressed in both ABA and SM-Omics per each region"
   ]
  },
  {
   "cell_type": "code",
   "execution_count": null,
   "metadata": {},
   "outputs": [],
   "source": [
    "from collections import defaultdict\n",
    "top_gene_dict = dict()\n",
    "df = pd.DataFrame()\n",
    "for k, v in ST_top_gene_dict.items():\n",
    "    if k == 'nan':\n",
    "        continue\n",
    "  \n",
    "    for i, STgene in enumerate([i.split(\"_\")[0] for i in v]):\n",
    "        for j, ABAgene in enumerate(ABA_top_gene_dict[k]):           \n",
    "            if ABAgene == STgene:               \n",
    "                top_gene_dict[STgene] = i+j\n",
    "\n",
    "    df[k+'_genes'] = dict(sorted(top_gene_dict.items(), key=operator.itemgetter(1), reverse=True)[:10]).keys()\n",
    "    df[k+'_counts'] = dict(sorted(top_gene_dict.items(), key=operator.itemgetter(1), reverse=True)[:10]).values()\n",
    "    top_gene_dict = {}  \n",
    "df"
   ]
  },
  {
   "cell_type": "code",
   "execution_count": null,
   "metadata": {},
   "outputs": [],
   "source": []
  }
 ],
 "metadata": {
  "kernelspec": {
   "display_name": "Python 3",
   "language": "python",
   "name": "python3"
  },
  "language_info": {
   "codemirror_mode": {
    "name": "ipython",
    "version": 3
   },
   "file_extension": ".py",
   "mimetype": "text/x-python",
   "name": "python",
   "nbconvert_exporter": "python",
   "pygments_lexer": "ipython3",
   "version": "3.9.2"
  }
 },
 "nbformat": 4,
 "nbformat_minor": 2
}
