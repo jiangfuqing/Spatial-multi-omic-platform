{
 "cells": [
  {
   "cell_type": "markdown",
   "metadata": {},
   "source": [
    "Script to make a Venn diagram of number of genes in each condition.\n",
    "\n",
    "Input files are downsampled\n",
    "\n",
    "data files needed to run are available at SCP: https://singlecell.broadinstitute.org/single_cell/study/SCP979/\n",
    "please download:<br>\n",
    "visium_A1_stdata.tsv <br>\n",
    "visium_B1_stdata.tsv <br>\n",
    "visium_D1_stdata.tsv <br>\n",
    "visium_A1_annotations.txt <br>\n",
    "visium_B1_annotations.txt <br>\n",
    "visium_D1_annotations.txt <br>\n",
    "10015CN108_C1_stdata.tsv <br>\n",
    "10015CN108fl_E2_stdata.tsv <br>\n",
    "5005CN107_D2_stdata.tsv <br>\n",
    "10015CN108_C1_annotations.txt <br>\n",
    "10015CN108fl_E2_annotations.txt <br>\n",
    "5005CN107_D2_annotations.txt <br>"
   ]
  },
  {
   "cell_type": "code",
   "execution_count": 3,
   "metadata": {},
   "outputs": [],
   "source": [
    "%matplotlib inline\n",
    "import os\n",
    "import pandas as pd\n",
    "import numpy as np\n",
    "import matplotlib.pyplot as plt\n",
    "import seaborn as sns\n",
    "import glob\n",
    "from matplotlib_venn import venn2"
   ]
  },
  {
   "cell_type": "code",
   "execution_count": 4,
   "metadata": {},
   "outputs": [],
   "source": [
    "import warnings\n",
    "warnings.filterwarnings('ignore')"
   ]
  },
  {
   "cell_type": "code",
   "execution_count": 158,
   "metadata": {},
   "outputs": [],
   "source": [
    "# Make a sample-condition dictionary\n",
    "sam_cond = {'Visium': ['visium_A1', 'visium_B1', 'visium_D1'],\n",
    "           'sm-omics':['10015CN108_C1', '10015CN108fl_E2', '5005CN107_D2']}\n"
   ]
  },
  {
   "cell_type": "code",
   "execution_count": 161,
   "metadata": {
    "scrolled": true
   },
   "outputs": [],
   "source": [
    "# Load input files, tsv files from st-pipeline\n",
    "\n",
    "path = '../../smomics_data'\n",
    "\n",
    "samples_list = ['visium_A1', 'visium_B1', 'visium_D1', '10015CN108_C1', '10015CN108fl_E2', '5005CN107_D2']\n",
    " \n",
    "files_dict = {}\n",
    "    \n",
    "for filename in samples_list:\n",
    "    \n",
    "    file = pd.read_csv(os.path.join(path, filename + '_stdata.tsv'), sep = '\\t', index_col=0)\n",
    "\n",
    "    files_dict[filename] = file.T\n"
   ]
  },
  {
   "cell_type": "code",
   "execution_count": 353,
   "metadata": {},
   "outputs": [],
   "source": [
    "'Splits counts file to inside vs outside tissue'\n",
    "genes_under_tissue_dict = {}\n",
    "    \n",
    "for filename in samples_list:\n",
    "    \n",
    "    file = pd.read_csv(os.path.join(path, filename + '_annotations.txt'), sep = '\\t', index_col=0)\n",
    "    spot_coordTMP = list()\n",
    "    \n",
    "    file = file[file['value'] != 'Unknown']\n",
    " \n",
    "    # 10015CN108fl_E2 samples have spot coordinates in float...\n",
    "    if filename == '10015CN108fl_E2':\n",
    "        for spots in file['x_y'].tolist():\n",
    "            spot_tmp = [ float(elem) for elem in spots.split('_') ]\n",
    "            spot_tmp2 = [ round(elem, 0) for elem in spot_tmp ]\n",
    "            spot_tmp3 = [ int(elem) for elem in spot_tmp2 ]\n",
    "\n",
    "            new_spot_coord = str(spot_tmp3[0]) + 'x' + str(spot_tmp3[1])\n",
    "            spot_coordTMP.append(new_spot_coord)\n",
    "    else:\n",
    "        for spots in file['x_y'].tolist():\n",
    "            spots_tmp = spots.split('_')\n",
    "            new_spot_coord = str(spots_tmp[0]) + 'x' + str(spots_tmp[1])   \n",
    "            spot_coordTMP.append(new_spot_coord)\n",
    "        \n",
    "    # Remove spots on border, ie ending in x35 or x1 for Sm-\n",
    "    spot_coord = []\n",
    "    for spot in spot_coordTMP[:]:\n",
    "        if spot.split('x')[1] != '35':\n",
    "            if (not \"visium\" in filename):\n",
    "                spot_coord.append(spot)\n",
    "            else:\n",
    "                spot_coord.append(spot)\n",
    "        if spot.split('x')[0] != '1':\n",
    "            if (not \"visium\" in filename):\n",
    "                spot_coord.append(spot)\n",
    "            else:\n",
    "                spot_coord.append(spot)\n",
    "    if filename == '5005CN107_D2':\n",
    "        spot_coord.remove('5x5')\n",
    "        spot_coord.remove('5x5')\n",
    "    if filename == '10015CN108_C1':\n",
    "        spot_coord.remove('14x35')\n",
    "        spot_coord.remove('10x35')\n",
    "        spot_coord.remove('13x35')\n",
    "        spot_coord.remove('11x35')\n",
    "        spot_coord.remove('12x35')\n",
    "    # Only store those samples I am interested in\n",
    "    if filename in samples_list:\n",
    "        genes_under_tissue_dict[filename] = spot_coord\n",
    "\n",
    "files_underoutside_tissue_dict = {}\n",
    "\n",
    "for k, v in files_dict.items():\n",
    "    #print(genes_under_tissue_dict[k])\n",
    "    v_under_tissue = v[genes_under_tissue_dict[k]]\n",
    "    v_under_tissue = v_under_tissue.loc[:,~v_under_tissue.columns.duplicated()]\n",
    "    \n",
    "    # Spots outside of tissue\n",
    "    spots_outside_tissue = [x for x in list(v) if x not in list(v_under_tissue)]\n",
    "    v_outside_tissue = v[spots_outside_tissue] \n",
    "    v_outside_tissue = v_outside_tissue.loc[:,~v_outside_tissue.columns.duplicated()]\n",
    "    files_underoutside_tissue_dict[k] = [v_under_tissue, v_outside_tissue]"
   ]
  },
  {
   "cell_type": "code",
   "execution_count": 355,
   "metadata": {},
   "outputs": [
    {
     "name": "stdout",
     "output_type": "stream",
     "text": [
      "visium_A1\n",
      "9084\n",
      "visium_B1\n",
      "10576\n",
      "visium_D1\n",
      "10297\n",
      "10015CN108_C1\n",
      "6731\n",
      "10015CN108fl_E2\n",
      "5921\n",
      "5005CN107_D2\n",
      "9478\n"
     ]
    }
   ],
   "source": [
    "# Filter on sequencing depth\n",
    "seq_depth = {'10015CN108_C1':[50786142, 50.7],\n",
    "            '10015CN108fl_E2':[85685215, 85.6],\n",
    "            '5005CN107_D2':[53954136, 53.9],\n",
    "             'visium_A1':[64384261, (4993/1007)*64.4],\n",
    "              'visium_B1':[73848603, (4993/1007)*73.9],\n",
    "              'visium_D1':[78790129, (4993/1007)*78.8]}\n",
    "co = 800\n",
    "gene_dict = {}\n",
    "for key, value in files_underoutside_tissue_dict.items():\n",
    "    \n",
    "    for i, val in enumerate(value): # [inside/outside] of tissue  \n",
    "        \n",
    "        # Sum the counts for each gene\n",
    "        val['tot count'] = val.sum(axis=1)\n",
    "\n",
    "        # Remove genes (rows) where the total sum is less than xx       \n",
    "        value_red = val[val['tot count'] > seq_depth[key][1]]\n",
    "\n",
    "        # Remove tot count column\n",
    "        value_red.drop(['tot count'], axis = 1, inplace=True)\n",
    "        \n",
    "        # remove lowly expressed spots\n",
    "        value_red = value_red.loc[:, value_red.sum(axis=0) > co]\n",
    "        \n",
    "        # remove lowest 5% genes\n",
    "        value_red = value_red.loc[value_red.astype(bool).sum(axis = 1) > 0.02*np.mean(value_red.sum(axis = 1)),:]\n",
    "        \n",
    "        if (i == 0) & (len(value_red.columns) > 0): # inside tissue\n",
    "            # Store these gene name\n",
    "            genes = value_red.index.tolist()    \n",
    "            gene_dict[key] = genes\n",
    "            print(key)\n",
    "            print(len(genes))"
   ]
  },
  {
   "cell_type": "code",
   "execution_count": 356,
   "metadata": {
    "scrolled": true
   },
   "outputs": [
    {
     "name": "stdout",
     "output_type": "stream",
     "text": [
      "9084\n",
      "10576\n",
      "10297\n",
      "6731\n",
      "5921\n",
      "9478\n",
      "9084\n",
      "10576\n",
      "10297\n",
      "6731\n",
      "5921\n",
      "9478\n"
     ]
    }
   ],
   "source": [
    "# Take the average of the 3 replicates\n",
    "ave_genes_dict = {}\n",
    "\n",
    "for key, value in sam_cond.items():\n",
    "    \n",
    "    genes_in_common = list()\n",
    "    \n",
    "    for gene_key, gene_value in gene_dict.items():\n",
    "        \n",
    "        print(len(gene_value))\n",
    "        \n",
    "        if gene_key in value:\n",
    "            \n",
    "            genes_in_common.append(gene_value)\n",
    "\n",
    "    # Which genes are present in all three samples? \n",
    "    ave_genes = list(set(genes_in_common[0]).intersection(genes_in_common[1],genes_in_common[2]))\n",
    "    \n",
    "    ave_genes_dict[key] = ave_genes\n"
   ]
  },
  {
   "cell_type": "code",
   "execution_count": 357,
   "metadata": {},
   "outputs": [
    {
     "data": {
      "image/png": "[encoded data removed]",
      "text/plain": [
       "<Figure size 1440x720 with 1 Axes>"
      ]
     },
     "metadata": {},
     "output_type": "display_data"
    }
   ],
   "source": [
    "# Plot figure with subplots of different sizes\n",
    "fig = plt.figure(figsize=(10, 5)) \n",
    "ax1 = plt.subplot2grid((1, 1), (0, 0))\n",
    "\n",
    "a = venn2([set(ave_genes_dict['sm-omics']), set(ave_genes_dict['Visium'])], set_labels = ('sm-omics', 'Visium'), ax=ax1)\n",
    "\n",
    "#ax1.text(-0.8, 0.5,'A', fontsize=22)\n",
    "\n",
    "lbl = a.get_label_by_id('A')\n",
    "x, y = lbl.get_position()\n",
    "lbl.set_position((-0.65, 0))  \n",
    "lbl = a.get_label_by_id('B')\n",
    "x, y = lbl.get_position()\n",
    "lbl.set_position((0.6, 0))\n",
    "\n",
    "a.get_patch_by_id('10').set_color('cadetblue')\n",
    "a.get_patch_by_id('01').set_color('lightcoral')\n",
    "a.get_patch_by_id('11').set_color('grey')\n",
    "\n",
    "fig.set_size_inches(20, 10)\n",
    "# plt.savefig(\"../../figures/SM_ST_Venn.pdf\", transparent=True, bbox_inches = 'tight',\n",
    "#    pad_inches = 0, dpi=1200)"
   ]
  },
  {
   "cell_type": "code",
   "execution_count": 358,
   "metadata": {},
   "outputs": [
    {
     "data": {
      "text/plain": [
       "0.6291441788743254"
      ]
     },
     "execution_count": 358,
     "metadata": {},
     "output_type": "execute_result"
    }
   ],
   "source": [
    "len(set(ave_genes_dict['sm-omics']))/len(set(ave_genes_dict['Visium']))"
   ]
  },
  {
   "cell_type": "code",
   "execution_count": 359,
   "metadata": {},
   "outputs": [],
   "source": [
    "\"Translate ensembl gene symbols to refseq\"\n",
    "genes_names_dict = pd.read_csv(\"../../smomics_data/Gene_names_mm.txt\", header = None)\n",
    "genes_names_dict['ensemble'] = list([i.split(\"_\")[0] for i in genes_names_dict[0]])\n",
    "genes_names_dict['names'] = list([i.split(\"_\")[1] for i in genes_names_dict[0]])\n",
    "genes_names_dict = genes_names_dict.drop(0, axis = 1)\n",
    "genes_names_dict.index = genes_names_dict['ensemble']\n",
    "genes_names_dict = genes_names_dict.drop('ensemble', axis = 1)\n",
    "genes_names_dict_final = genes_names_dict.to_dict()"
   ]
  },
  {
   "cell_type": "code",
   "execution_count": 360,
   "metadata": {},
   "outputs": [],
   "source": [
    "\"Get sm-omics gene names\"\n",
    "smomics_genes =  [genes_names_dict_final['names'][key] for key in ave_genes_dict['sm-omics']]"
   ]
  },
  {
   "cell_type": "code",
   "execution_count": 361,
   "metadata": {},
   "outputs": [],
   "source": [
    "\"Get st gene names\"\n",
    "visium_genes =  [genes_names_dict_final['names'][key] for key in ave_genes_dict['Visium']]"
   ]
  },
  {
   "cell_type": "code",
   "execution_count": 363,
   "metadata": {},
   "outputs": [
    {
     "name": "stdout",
     "output_type": "stream",
     "text": [
      "Sytl2  gene in SM-Omics\n",
      "Satb2  gene in SM-Omics\n",
      "Asap1  gene in SM-Omics\n",
      "Hkdc1  gene not in Visium\n",
      "Fhod3  gene in SM-Omics\n",
      "Stard8  gene not in Visium\n",
      "Exph5  gene not in Visium\n",
      "Ier5  gene in SM-Omics\n",
      "Mybpc1  gene not in Visium\n",
      "Bend5  gene not in Visium\n",
      "Abcb6  gene not in Visium\n",
      "Gtdc1  gene in SM-Omics\n",
      "LOC381765  gene not in Visium\n",
      "Kcnh7  gene in SM-Omics\n",
      "LOC433228  gene not in Visium\n",
      "E130012A19Rik  gene in SM-Omics\n",
      "Mef2c  gene in SM-Omics\n",
      "Spag5  gene not in Visium\n",
      "Prss12  gene not in Visium\n",
      "Ddit4l  gene in SM-Omics\n",
      "Tshz3  gene in SM-Omics\n",
      "Gm12429  gene not in Visium\n",
      "Pak7  gene in SM-Omics\n",
      "1700019N12Rik  gene not in Visium\n",
      "LOC381557  gene not in Visium\n",
      "Dkk3  gene in SM-Omics\n"
     ]
    }
   ],
   "source": [
    "\"Check if genes in sm-omics and st\"\n",
    "for gene in 'Sytl2', 'Myl4', 'Tnnc1', 'Igfbp6', 'Baalc', 'Satb2', 'Asap1', 'Hkdc1', 'Fhod3', 'Stard8', 'Exph5', 'Ier5', 'Trib1', 'Mybpc1', 'Bend5', 'Lmna', 'Abcb6', 'Gtdc1', 'Dact2', 'D8Ertd82e', 'Pamr1', 'Cckbr', 'LOC381765', 'Kcnh7', 'LOC433228', 'E130012A19Rik', '1110008P14Rik', 'Mef2c', 'Spag5', 'Prss12', 'Crhr1', 'Ighm', 'Ddit4l', 'Tshz3', 'Gm12429', 'Pak7', '1700019N12Rik', 'Fezf2', 'LOC381557', 'Dkk3':\n",
    "    if gene in smomics_genes:\n",
    "        print(gene, \" gene in SM-Omics\")\n",
    "    if not gene in visium_genes:\n",
    "        print(gene, \" gene not in Visium\")"
   ]
  },
  {
   "cell_type": "code",
   "execution_count": null,
   "metadata": {},
   "outputs": [],
   "source": []
  },
  {
   "cell_type": "code",
   "execution_count": null,
   "metadata": {},
   "outputs": [],
   "source": []
  }
 ],
 "metadata": {
  "kernelspec": {
   "display_name": "Python 3",
   "language": "python",
   "name": "python3"
  },
  "language_info": {
   "codemirror_mode": {
    "name": "ipython",
    "version": 3
   },
   "file_extension": ".py",
   "mimetype": "text/x-python",
   "name": "python",
   "nbconvert_exporter": "python",
   "pygments_lexer": "ipython3",
   "version": "3.9.2"
  }
 },
 "nbformat": 4,
 "nbformat_minor": 2
}
